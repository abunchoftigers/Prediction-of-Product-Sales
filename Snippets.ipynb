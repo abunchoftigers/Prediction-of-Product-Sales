{
  "nbformat": 4,
  "nbformat_minor": 0,
  "metadata": {
    "colab": {
      "private_outputs": true,
      "provenance": [],
      "toc_visible": true,
      "authorship_tag": "ABX9TyPh3lMwX0YIKPmkV6DzVgGD",
      "include_colab_link": true
    },
    "kernelspec": {
      "name": "python3",
      "display_name": "Python 3"
    },
    "language_info": {
      "name": "python"
    }
  },
  "cells": [
    {
      "cell_type": "markdown",
      "metadata": {
        "id": "view-in-github",
        "colab_type": "text"
      },
      "source": [
        "<a href=\"https://colab.research.google.com/github/abunchoftigers/Prediction-of-Product-Sales/blob/main/Snippets.ipynb\" target=\"_parent\"><img src=\"https://colab.research.google.com/assets/colab-badge.svg\" alt=\"Open In Colab\"/></a>"
      ]
    },
    {
      "cell_type": "markdown",
      "source": [
        "# Ensemble Trees Exercise (Core)\n",
        "Week 6, Assignment 2"
      ],
      "metadata": {
        "id": "-MzyVyyf8hWO"
      }
    },
    {
      "cell_type": "markdown",
      "source": [
        "* by: David Dyer"
      ],
      "metadata": {
        "id": "-X9B2IZo8ln5"
      }
    },
    {
      "cell_type": "markdown",
      "source": [
        "You will use the Boston Housing Data that you used in the regression Trees practice assignment. Let's see if we can improve the results model using ensemble tree models! The target is PRICE. This data set is all numeric and clean. Data does not need to be scaled for tree models, so you do not need to perform preprocessing steps. Be sure to split the data before modeling."
      ],
      "metadata": {
        "id": "i14vlrZo9p3z"
      }
    },
    {
      "cell_type": "markdown",
      "source": [
        "Your task is to create the best possible model to predict house prices.\n",
        "\n",
        "1. Train and evaluate a default Bagged Trees\n",
        "2. Use GridSearchCV to tune the Bagged Tree model to optimize performance on the test set.\n",
        " - Evaluate the best Bagged Tree model's performance.\n",
        "3. Train and evaluate a default random forest\n",
        "4. Use GridSearchCV to tune the Random Forest model to optimize performance on the test set.\n",
        " - Evaluate the best Random Forest model's performance.\n",
        "5. Which model and model parameters provided the best results?\n",
        "6. Explain in a text cell how your model will perform if deployed by referring to the metrics. Ex. How close can your stakeholders expect its predictions to be to the true value?"
      ],
      "metadata": {
        "id": "hx1kTNnO9sR_"
      }
    },
    {
      "cell_type": "code",
      "execution_count": null,
      "metadata": {
        "id": "lCbx4jfm8a1I"
      },
      "outputs": [],
      "source": [
        "import matplotlib.pyplot as plt\n",
        "import pandas as pd\n",
        "import numpy as np\n",
        "from sklearn.pipeline import make_pipeline\n",
        "from sklearn.model_selection import train_test_split, GridSearchCV\n",
        "from sklearn.compose import ColumnTransformer\n",
        "from sklearn.linear_model import LinearRegression\n",
        "from sklearn.ensemble import BaggingRegressor\n",
        "\n",
        "from sklearn import set_config\n",
        "set_config(transform_output='pandas')\n",
        "\n",
        "from google.colab import drive\n",
        "import warnings\n",
        "\n",
        "warnings.simplefilter('ignore')"
      ]
    },
    {
      "cell_type": "code",
      "source": [
        "# mount drive\n",
        "drive.mount('/content/drive')"
      ],
      "metadata": {
        "id": "Y4qG3XKr-3Ak"
      },
      "execution_count": null,
      "outputs": []
    },
    {
      "cell_type": "code",
      "source": [
        "# configure options## Set filter warnings to ignore\n",
        "warnings.filterwarnings('ignore')\n",
        "## Display all columns\n",
        "pd.set_option('display.max_column', None)\n",
        "\n",
        "## Display all rows\n",
        "pd.set_option('display.max_rows', None)\n",
        "\n",
        "## SK Learn Display\n",
        "set_config(display='diagram')\n",
        "\n",
        "## Transformers output as a Pandas Dataframe\n",
        "set_config(transform_output='pandas')"
      ],
      "metadata": {
        "id": "cnHeScb7-5d0"
      },
      "execution_count": null,
      "outputs": []
    },
    {
      "cell_type": "code",
      "source": [
        "# load dataset\n",
        "fpath = '/content/drive/MyDrive/Coding Dojo - Data Science/02 - Intro to Machine Learning/Week 2/data/Boston_Housing_from_Sklearn - Boston_Housing_from_Sklearn.csv'\n",
        "df = pd.read_csv(fpath)\n",
        "df.head()"
      ],
      "metadata": {
        "id": "jVEp4pNj-8OY"
      },
      "execution_count": null,
      "outputs": []
    },
    {
      "cell_type": "code",
      "source": [
        "# explore data\n",
        "df.info()\n",
        "df.describe()\n",
        "\n",
        "# For this assignment we're told that the dataset is all numeric and clean"
      ],
      "metadata": {
        "id": "7ReFcA-b_KCU"
      },
      "execution_count": null,
      "outputs": []
    },
    {
      "cell_type": "code",
      "source": [
        "# define vectors\n",
        "X = df.drop(columns=['PRICE'])\n",
        "y = df['PRICE']\n",
        "\n",
        "# X, y"
      ],
      "metadata": {
        "id": "p_6vbwQ8_BMq"
      },
      "execution_count": null,
      "outputs": []
    },
    {
      "cell_type": "code",
      "source": [
        "# split data\n",
        "X_train, X_test, y_train, y_test = train_test_split(X, y, random_state=42)"
      ],
      "metadata": {
        "id": "ewJqib6A_GjV"
      },
      "execution_count": null,
      "outputs": []
    },
    {
      "cell_type": "code",
      "source": [
        "from sklearn.metrics import mean_squared_error, mean_absolute_error, r2_score\n",
        "def regression_metrics(y_true, y_pred, label='', verbose = True, output_dict=False):\n",
        "  # Get metrics\n",
        "  mae = mean_absolute_error(y_true, y_pred)\n",
        "  mse = mean_squared_error(y_true, y_pred)\n",
        "  rmse = mean_squared_error(y_true, y_pred, squared=False)\n",
        "  r_squared = r2_score(y_true, y_pred)\n",
        "  if verbose == True:\n",
        "    # Print Result with Label and Header\n",
        "    header = \"-\"*60\n",
        "    print(header, f\"Regression Metrics: {label}\", header, sep='\\n')\n",
        "    print(f\"- MAE = {mae:,.3f}\")\n",
        "    print(f\"- MSE = {mse:,.3f}\")\n",
        "    print(f\"- RMSE = {rmse:,.3f}\")\n",
        "    print(f\"- R^2 = {r_squared:,.3f}\")\n",
        "  if output_dict == True:\n",
        "      metrics = {'Label':label, 'MAE':mae,\n",
        "                 'MSE':mse, 'RMSE':rmse, 'R^2':r_squared}\n",
        "      return metrics\n",
        "def evaluate_regression(reg, X_train, y_train, X_test, y_test, verbose = True,\n",
        "                        output_frame=False):\n",
        "  # Get predictions for training data\n",
        "  y_train_pred = reg.predict(X_train)\n",
        "  # Call the helper function to obtain regression metrics for training data\n",
        "  results_train = regression_metrics(y_train, y_train_pred, verbose = verbose,\n",
        "                                     output_dict=output_frame,\n",
        "                                     label='Training Data')\n",
        "  print()\n",
        "  # Get predictions for test data\n",
        "  y_test_pred = reg.predict(X_test)\n",
        "  # Call the helper function to obtain regression metrics for test data\n",
        "  results_test = regression_metrics(y_test, y_test_pred, verbose = verbose,\n",
        "                                  output_dict=output_frame,\n",
        "                                    label='Test Data' )\n",
        "  # Store results in a dataframe if ouput_frame is True\n",
        "  if output_frame:\n",
        "    results_df = pd.DataFrame([results_train,results_test])\n",
        "    # Set the label as the index\n",
        "    results_df = results_df.set_index('Label')\n",
        "    # Set index.name to none to get a cleaner looking result\n",
        "    results_df.index.name=None\n",
        "    # Return the dataframe\n",
        "    return results_df.round(3)"
      ],
      "metadata": {
        "id": "iArMQ-J9CJZ_"
      },
      "execution_count": null,
      "outputs": []
    },
    {
      "cell_type": "markdown",
      "source": [
        "# New Section"
      ],
      "metadata": {
        "id": "xWZgBF0gDeJf"
      }
    },
    {
      "cell_type": "code",
      "source": [
        "# create column transformer"
      ],
      "metadata": {
        "id": "PQ2_nIec_M55"
      },
      "execution_count": null,
      "outputs": []
    },
    {
      "cell_type": "code",
      "source": [
        "# category pipeline"
      ],
      "metadata": {
        "id": "TCbt4BYP_SGt"
      },
      "execution_count": null,
      "outputs": []
    },
    {
      "cell_type": "code",
      "source": [
        "# numeric pipeline"
      ],
      "metadata": {
        "id": "7geEkpL1_SOQ"
      },
      "execution_count": null,
      "outputs": []
    },
    {
      "cell_type": "code",
      "source": [
        "# ordinal pipeline"
      ],
      "metadata": {
        "id": "5tat-jxa_SVF"
      },
      "execution_count": null,
      "outputs": []
    }
  ]
}