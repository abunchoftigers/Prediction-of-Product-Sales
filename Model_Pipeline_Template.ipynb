{
  "nbformat": 4,
  "nbformat_minor": 0,
  "metadata": {
    "colab": {
      "private_outputs": true,
      "provenance": [],
      "authorship_tag": "ABX9TyN1vOBmXNFWt8LLQM3d7ZEn",
      "include_colab_link": true
    },
    "kernelspec": {
      "name": "python3",
      "display_name": "Python 3"
    },
    "language_info": {
      "name": "python"
    }
  },
  "cells": [
    {
      "cell_type": "markdown",
      "metadata": {
        "id": "view-in-github",
        "colab_type": "text"
      },
      "source": [
        "<a href=\"https://colab.research.google.com/github/abunchoftigers/Prediction-of-Product-Sales/blob/main/Model_Pipeline_Template.ipynb\" target=\"_parent\"><img src=\"https://colab.research.google.com/assets/colab-badge.svg\" alt=\"Open In Colab\"/></a>"
      ]
    },
    {
      "cell_type": "markdown",
      "source": [
        "# Ensemble Trees Exercise (Core)\n",
        "Week 6, Assignment 2"
      ],
      "metadata": {
        "id": "-MzyVyyf8hWO"
      }
    },
    {
      "cell_type": "markdown",
      "source": [
        "* by: David Dyer"
      ],
      "metadata": {
        "id": "-X9B2IZo8ln5"
      }
    },
    {
      "cell_type": "markdown",
      "source": [
        "You will use the Boston Housing Data that you used in the regression Trees practice assignment. Let's see if we can improve the results model using ensemble tree models! The target is PRICE. This data set is all numeric and clean. Data does not need to be scaled for tree models, so you do not need to perform preprocessing steps. Be sure to split the data before modeling."
      ],
      "metadata": {
        "id": "i14vlrZo9p3z"
      }
    },
    {
      "cell_type": "markdown",
      "source": [
        "Your task is to create the best possible model to predict house prices.\n",
        "\n",
        "1. Train and evaluate a default Bagged Trees\n",
        "2. Use GridSearchCV to tune the Bagged Tree model to optimize performance on the test set.\n",
        " - Evaluate the best Bagged Tree model's performance.\n",
        "3. Train and evaluate a default random forest\n",
        "4. Use GridSearchCV to tune the Random Forest model to optimize performance on the test set.\n",
        " - Evaluate the best Random Forest model's performance.\n",
        "5. Which model and model parameters provided the best results?\n",
        "6. Explain in a text cell how your model will perform if deployed by referring to the metrics. Ex. How close can your stakeholders expect its predictions to be to the true value?"
      ],
      "metadata": {
        "id": "hx1kTNnO9sR_"
      }
    },
    {
      "cell_type": "code",
      "execution_count": null,
      "metadata": {
        "id": "lCbx4jfm8a1I"
      },
      "outputs": [],
      "source": [
        "import pandas as pd\n",
        "import numpy as np\n",
        "from sklearn.pipeline import make_pipeline\n",
        "from sklearn.impute import SimpleImputer\n",
        "from sklearn.preprocessing import StandardScaler, OneHotEncoder, OrdinalEncoder\n",
        "from sklearn.model_selection import train_test_split\n",
        "from sklearn.compose import make_column_selector, ColumnTransformer\n",
        "from sklearn.metrics import r2_score, mean_squared_error, mean_absolute_error\n",
        "from sklearn.linear_model import LinearRegression\n",
        "\n",
        "from sklearn import set_config\n",
        "set_config(transform_output='pandas')\n",
        "\n",
        "from google.colab import drive\n",
        "import warnings\n",
        "\n",
        "warnings.simplefilter('ignore')"
      ]
    },
    {
      "cell_type": "code",
      "source": [
        "# mount drive"
      ],
      "metadata": {
        "id": "Y4qG3XKr-3Ak"
      },
      "execution_count": null,
      "outputs": []
    },
    {
      "cell_type": "code",
      "source": [
        "# configure options"
      ],
      "metadata": {
        "id": "cnHeScb7-5d0"
      },
      "execution_count": null,
      "outputs": []
    },
    {
      "cell_type": "code",
      "source": [
        "# load dataset"
      ],
      "metadata": {
        "id": "jVEp4pNj-8OY"
      },
      "execution_count": null,
      "outputs": []
    },
    {
      "cell_type": "code",
      "source": [
        "# explore data"
      ],
      "metadata": {
        "id": "7ReFcA-b_KCU"
      },
      "execution_count": null,
      "outputs": []
    },
    {
      "cell_type": "code",
      "source": [
        "# define vectors"
      ],
      "metadata": {
        "id": "p_6vbwQ8_BMq"
      },
      "execution_count": null,
      "outputs": []
    },
    {
      "cell_type": "code",
      "source": [
        "# split data"
      ],
      "metadata": {
        "id": "ewJqib6A_GjV"
      },
      "execution_count": null,
      "outputs": []
    },
    {
      "cell_type": "code",
      "source": [
        "# create column transformer"
      ],
      "metadata": {
        "id": "PQ2_nIec_M55"
      },
      "execution_count": null,
      "outputs": []
    },
    {
      "cell_type": "code",
      "source": [
        "# category pipeline"
      ],
      "metadata": {
        "id": "TCbt4BYP_SGt"
      },
      "execution_count": null,
      "outputs": []
    },
    {
      "cell_type": "code",
      "source": [
        "# numeric pipeline"
      ],
      "metadata": {
        "id": "7geEkpL1_SOQ"
      },
      "execution_count": null,
      "outputs": []
    },
    {
      "cell_type": "code",
      "source": [
        "# ordinal pipeline"
      ],
      "metadata": {
        "id": "5tat-jxa_SVF"
      },
      "execution_count": null,
      "outputs": []
    }
  ]
}